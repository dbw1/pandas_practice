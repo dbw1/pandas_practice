{
 "metadata": {
  "name": ""
 },
 "nbformat": 3,
 "nbformat_minor": 0,
 "worksheets": [
  {
   "cells": [
    {
     "cell_type": "heading",
     "level": 1,
     "metadata": {},
     "source": [
      "Pandas notes:\n"
     ]
    },
    {
     "cell_type": "markdown",
     "metadata": {},
     "source": [
      "Series are a 1D labeled array that hold any data type with axis label = index\n",
      "Here, data can be many different things:\n",
      "\n",
      "a Python dict\n",
      "an ndarray\n",
      "a scalar value (like 5)\n",
      "The passed index is a list of axis labels. Thus, this separates into a few cases depending on what data is:\n"
     ]
    },
    {
     "cell_type": "code",
     "collapsed": false,
     "input": [
      "import pandas as pd\n",
      "series = pd.Series(['Dave', 'Cheng-Han', 359, 9001],\n",
      "                       index=['Instructor', 'Curriculum Manager',\n",
      "                              'Course Number', 'Power Level'])\n",
      "print series"
     ],
     "language": "python",
     "metadata": {},
     "outputs": [
      {
       "output_type": "stream",
       "stream": "stdout",
       "text": [
        "Instructor                 Dave\n",
        "Curriculum Manager    Cheng-Han\n",
        "Course Number               359\n",
        "Power Level                9001\n",
        "dtype: object\n"
       ]
      }
     ],
     "prompt_number": 2
    },
    {
     "cell_type": "code",
     "collapsed": false,
     "input": [
      "series[['Instructor','Curriculum Manager']]"
     ],
     "language": "python",
     "metadata": {},
     "outputs": [
      {
       "metadata": {},
       "output_type": "pyout",
       "prompt_number": 7,
       "text": [
        "Instructor                 Dave\n",
        "Curriculum Manager    Cheng-Han\n",
        "dtype: object"
       ]
      }
     ],
     "prompt_number": 7
    },
    {
     "cell_type": "heading",
     "level": 2,
     "metadata": {},
     "source": [
      "Data Frames"
     ]
    },
    {
     "cell_type": "raw",
     "metadata": {},
     "source": [
      "Data frames are first entered as a dict, then saved as an instance of a dataframe object."
     ]
    },
    {
     "cell_type": "code",
     "collapsed": false,
     "input": [
      "people = ['Sarah', 'Mike', 'Chrisna']\n",
      "ages  =  [28, 32, 25]\n",
      "#the two methods provide the same information\n",
      "df = pd.DataFrame({'name' : pd.Series(people),\n",
      "                'age'  : pd.Series(ages)})\n",
      "df2 = pd.DataFrame({'name': people,\n",
      "                   'age': ages})\n",
      "\n",
      "print df\n",
      "print df2"
     ],
     "language": "python",
     "metadata": {},
     "outputs": [
      {
       "output_type": "stream",
       "stream": "stdout",
       "text": [
        "   age     name\n",
        "0   28    Sarah\n",
        "1   32     Mike\n",
        "2   25  Chrisna\n",
        "   age     name\n",
        "0   28    Sarah\n",
        "1   32     Mike\n",
        "2   25  Chrisna\n"
       ]
      }
     ],
     "prompt_number": 4
    },
    {
     "cell_type": "raw",
     "metadata": {},
     "source": [
      "dtypes gets you data type and column name"
     ]
    },
    {
     "cell_type": "code",
     "collapsed": false,
     "input": [
      "football.dtypes"
     ],
     "language": "python",
     "metadata": {},
     "outputs": [
      {
       "metadata": {},
       "output_type": "pyout",
       "prompt_number": 11,
       "text": [
        "losses     int64\n",
        "team      object\n",
        "wins       int64\n",
        "year       int64\n",
        "dtype: object"
       ]
      }
     ],
     "prompt_number": 11
    },
    {
     "cell_type": "code",
     "collapsed": false,
     "input": [
      "df.size[0]"
     ],
     "language": "python",
     "metadata": {},
     "outputs": [
      {
       "ename": "IndexError",
       "evalue": "invalid index to scalar variable.",
       "output_type": "pyerr",
       "traceback": [
        "\u001b[0;31m---------------------------------------------------------------------------\u001b[0m\n\u001b[0;31mIndexError\u001b[0m                                Traceback (most recent call last)",
        "\u001b[0;32m<ipython-input-6-e678bcf31e02>\u001b[0m in \u001b[0;36m<module>\u001b[0;34m()\u001b[0m\n\u001b[0;32m----> 1\u001b[0;31m \u001b[0mdf\u001b[0m\u001b[0;34m.\u001b[0m\u001b[0msize\u001b[0m\u001b[0;34m[\u001b[0m\u001b[0;36m0\u001b[0m\u001b[0;34m]\u001b[0m\u001b[0;34m\u001b[0m\u001b[0m\n\u001b[0m",
        "\u001b[0;31mIndexError\u001b[0m: invalid index to scalar variable."
       ]
      }
     ],
     "prompt_number": 6
    },
    {
     "cell_type": "raw",
     "metadata": {},
     "source": [
      "describe() gives you summary statistics"
     ]
    },
    {
     "cell_type": "code",
     "collapsed": false,
     "input": [
      "football.describe()"
     ],
     "language": "python",
     "metadata": {},
     "outputs": [
      {
       "html": [
        "<div style=\"max-width:1500px;overflow:auto;\">\n",
        "<table border=\"1\" class=\"dataframe\">\n",
        "  <thead>\n",
        "    <tr style=\"text-align: right;\">\n",
        "      <th></th>\n",
        "      <th>losses</th>\n",
        "      <th>wins</th>\n",
        "      <th>year</th>\n",
        "    </tr>\n",
        "  </thead>\n",
        "  <tbody>\n",
        "    <tr>\n",
        "      <th>count</th>\n",
        "      <td>8.000000</td>\n",
        "      <td>8.000000</td>\n",
        "      <td>8.000000</td>\n",
        "    </tr>\n",
        "    <tr>\n",
        "      <th>mean</th>\n",
        "      <td>6.625000</td>\n",
        "      <td>9.375000</td>\n",
        "      <td>2011.125000</td>\n",
        "    </tr>\n",
        "    <tr>\n",
        "      <th>std</th>\n",
        "      <td>3.377975</td>\n",
        "      <td>3.377975</td>\n",
        "      <td>0.834523</td>\n",
        "    </tr>\n",
        "    <tr>\n",
        "      <th>min</th>\n",
        "      <td>1.000000</td>\n",
        "      <td>4.000000</td>\n",
        "      <td>2010.000000</td>\n",
        "    </tr>\n",
        "    <tr>\n",
        "      <th>25%</th>\n",
        "      <td>5.000000</td>\n",
        "      <td>7.500000</td>\n",
        "      <td>2010.750000</td>\n",
        "    </tr>\n",
        "    <tr>\n",
        "      <th>50%</th>\n",
        "      <td>6.000000</td>\n",
        "      <td>10.000000</td>\n",
        "      <td>2011.000000</td>\n",
        "    </tr>\n",
        "    <tr>\n",
        "      <th>75%</th>\n",
        "      <td>8.500000</td>\n",
        "      <td>11.000000</td>\n",
        "      <td>2012.000000</td>\n",
        "    </tr>\n",
        "    <tr>\n",
        "      <th>max</th>\n",
        "      <td>12.000000</td>\n",
        "      <td>15.000000</td>\n",
        "      <td>2012.000000</td>\n",
        "    </tr>\n",
        "  </tbody>\n",
        "</table>\n",
        "</div>"
       ],
       "metadata": {},
       "output_type": "pyout",
       "prompt_number": 12,
       "text": [
        "          losses       wins         year\n",
        "count   8.000000   8.000000     8.000000\n",
        "mean    6.625000   9.375000  2011.125000\n",
        "std     3.377975   3.377975     0.834523\n",
        "min     1.000000   4.000000  2010.000000\n",
        "25%     5.000000   7.500000  2010.750000\n",
        "50%     6.000000  10.000000  2011.000000\n",
        "75%     8.500000  11.000000  2012.000000\n",
        "max    12.000000  15.000000  2012.000000"
       ]
      }
     ],
     "prompt_number": 12
    },
    {
     "cell_type": "raw",
     "metadata": {},
     "source": [
      "head(x) gives you first x many"
     ]
    },
    {
     "cell_type": "code",
     "collapsed": false,
     "input": [
      "football.head(2)"
     ],
     "language": "python",
     "metadata": {},
     "outputs": [
      {
       "html": [
        "<div style=\"max-width:1500px;overflow:auto;\">\n",
        "<table border=\"1\" class=\"dataframe\">\n",
        "  <thead>\n",
        "    <tr style=\"text-align: right;\">\n",
        "      <th></th>\n",
        "      <th>losses</th>\n",
        "      <th>team</th>\n",
        "      <th>wins</th>\n",
        "      <th>year</th>\n",
        "    </tr>\n",
        "  </thead>\n",
        "  <tbody>\n",
        "    <tr>\n",
        "      <th>0</th>\n",
        "      <td>5</td>\n",
        "      <td>Bears</td>\n",
        "      <td>11</td>\n",
        "      <td>2010</td>\n",
        "    </tr>\n",
        "    <tr>\n",
        "      <th>1</th>\n",
        "      <td>8</td>\n",
        "      <td>Bears</td>\n",
        "      <td>8</td>\n",
        "      <td>2011</td>\n",
        "    </tr>\n",
        "  </tbody>\n",
        "</table>\n",
        "</div>"
       ],
       "metadata": {},
       "output_type": "pyout",
       "prompt_number": 14,
       "text": [
        "   losses   team  wins  year\n",
        "0       5  Bears    11  2010\n",
        "1       8  Bears     8  2011"
       ]
      }
     ],
     "prompt_number": 14
    },
    {
     "cell_type": "code",
     "collapsed": false,
     "input": [
      "football.tail()"
     ],
     "language": "python",
     "metadata": {},
     "outputs": [
      {
       "html": [
        "<div style=\"max-width:1500px;overflow:auto;\">\n",
        "<table border=\"1\" class=\"dataframe\">\n",
        "  <thead>\n",
        "    <tr style=\"text-align: right;\">\n",
        "      <th></th>\n",
        "      <th>losses</th>\n",
        "      <th>team</th>\n",
        "      <th>wins</th>\n",
        "      <th>year</th>\n",
        "    </tr>\n",
        "  </thead>\n",
        "  <tbody>\n",
        "    <tr>\n",
        "      <th>3</th>\n",
        "      <td>1</td>\n",
        "      <td>Packers</td>\n",
        "      <td>15</td>\n",
        "      <td>2011</td>\n",
        "    </tr>\n",
        "    <tr>\n",
        "      <th>4</th>\n",
        "      <td>5</td>\n",
        "      <td>Packers</td>\n",
        "      <td>11</td>\n",
        "      <td>2012</td>\n",
        "    </tr>\n",
        "    <tr>\n",
        "      <th>5</th>\n",
        "      <td>10</td>\n",
        "      <td>Lions</td>\n",
        "      <td>6</td>\n",
        "      <td>2010</td>\n",
        "    </tr>\n",
        "    <tr>\n",
        "      <th>6</th>\n",
        "      <td>6</td>\n",
        "      <td>Lions</td>\n",
        "      <td>10</td>\n",
        "      <td>2011</td>\n",
        "    </tr>\n",
        "    <tr>\n",
        "      <th>7</th>\n",
        "      <td>12</td>\n",
        "      <td>Lions</td>\n",
        "      <td>4</td>\n",
        "      <td>2012</td>\n",
        "    </tr>\n",
        "  </tbody>\n",
        "</table>\n",
        "</div>"
       ],
       "metadata": {},
       "output_type": "pyout",
       "prompt_number": 15,
       "text": [
        "   losses     team  wins  year\n",
        "3       1  Packers    15  2011\n",
        "4       5  Packers    11  2012\n",
        "5      10    Lions     6  2010\n",
        "6       6    Lions    10  2011\n",
        "7      12    Lions     4  2012"
       ]
      }
     ],
     "prompt_number": 15
    },
    {
     "cell_type": "heading",
     "level": 2,
     "metadata": {},
     "source": [
      "DataFrame Column Calls"
     ]
    },
    {
     "cell_type": "code",
     "collapsed": false,
     "input": [
      "df[['name','age']]"
     ],
     "language": "python",
     "metadata": {},
     "outputs": [
      {
       "html": [
        "<div style=\"max-width:1500px;overflow:auto;\">\n",
        "<table border=\"1\" class=\"dataframe\">\n",
        "  <thead>\n",
        "    <tr style=\"text-align: right;\">\n",
        "      <th></th>\n",
        "      <th>name</th>\n",
        "      <th>age</th>\n",
        "    </tr>\n",
        "  </thead>\n",
        "  <tbody>\n",
        "    <tr>\n",
        "      <th>0</th>\n",
        "      <td>Sarah</td>\n",
        "      <td>28</td>\n",
        "    </tr>\n",
        "    <tr>\n",
        "      <th>1</th>\n",
        "      <td>Mike</td>\n",
        "      <td>32</td>\n",
        "    </tr>\n",
        "    <tr>\n",
        "      <th>2</th>\n",
        "      <td>Chrisna</td>\n",
        "      <td>25</td>\n",
        "    </tr>\n",
        "  </tbody>\n",
        "</table>\n",
        "</div>"
       ],
       "metadata": {},
       "output_type": "pyout",
       "prompt_number": 22,
       "text": [
        "      name  age\n",
        "0    Sarah   28\n",
        "1     Mike   32\n",
        "2  Chrisna   25"
       ]
      }
     ],
     "prompt_number": 22
    },
    {
     "cell_type": "code",
     "collapsed": false,
     "input": [
      "df[df['age'] >= 30]"
     ],
     "language": "python",
     "metadata": {},
     "outputs": [
      {
       "html": [
        "<div style=\"max-width:1500px;overflow:auto;\">\n",
        "<table border=\"1\" class=\"dataframe\">\n",
        "  <thead>\n",
        "    <tr style=\"text-align: right;\">\n",
        "      <th></th>\n",
        "      <th>age</th>\n",
        "      <th>name</th>\n",
        "    </tr>\n",
        "  </thead>\n",
        "  <tbody>\n",
        "    <tr>\n",
        "      <th>1</th>\n",
        "      <td>32</td>\n",
        "      <td>Mike</td>\n",
        "    </tr>\n",
        "  </tbody>\n",
        "</table>\n",
        "</div>"
       ],
       "metadata": {},
       "output_type": "pyout",
       "prompt_number": 24,
       "text": [
        "   age  name\n",
        "1   32  Mike"
       ]
      }
     ],
     "prompt_number": 24
    },
    {
     "cell_type": "code",
     "collapsed": false,
     "input": [
      " data = {'year': [2010, 2011, 2012, 2011, 2012, 2010, 2011, 2012],\n",
      "            'team': ['Bears', 'Bears', 'Bears', 'Packers', 'Packers', 'Lions',\n",
      "                     'Lions', 'Lions'],\n",
      "            'wins': [11, 8, 10, 15, 11, 6, 10, 4],\n",
      "            'losses': [5, 8, 6, 1, 5, 10, 6, 12]}\n",
      "football = pd.DataFrame(data)\n",
      "print football['year']\n",
      "print ''\n",
      "print football.year  # shorthand for football['year']\n",
      "print ''\n",
      "print football[['year', 'wins', 'losses']]"
     ],
     "language": "python",
     "metadata": {},
     "outputs": [
      {
       "output_type": "stream",
       "stream": "stdout",
       "text": [
        "0    2010\n",
        "1    2011\n",
        "2    2012\n",
        "3    2011\n",
        "4    2012\n",
        "5    2010\n",
        "6    2011\n",
        "7    2012\n",
        "Name: year, dtype: int64\n",
        "\n",
        "0    2010\n",
        "1    2011\n",
        "2    2012\n",
        "3    2011\n",
        "4    2012\n",
        "5    2010\n",
        "6    2011\n",
        "7    2012\n",
        "Name: year, dtype: int64\n",
        "\n",
        "   year  wins  losses\n",
        "0  2010    11       5\n",
        "1  2011     8       8\n",
        "2  2012    10       6\n",
        "3  2011    15       1\n",
        "4  2012    11       5\n",
        "5  2010     6      10\n",
        "6  2011    10       6\n",
        "7  2012     4      12\n"
       ]
      }
     ],
     "prompt_number": 25
    },
    {
     "cell_type": "code",
     "collapsed": false,
     "input": [
      "print football.iloc[0] #returns the object at 0\n",
      "print ''\n",
      "print football.loc[[0]] #returns data frame row at 0"
     ],
     "language": "python",
     "metadata": {},
     "outputs": [
      {
       "output_type": "stream",
       "stream": "stdout",
       "text": [
        "losses        5\n",
        "team      Bears\n",
        "wins         11\n",
        "year       2010\n",
        "Name: 0, dtype: object\n",
        "\n",
        "   losses   team  wins  year\n",
        "0       5  Bears    11  2010\n"
       ]
      }
     ],
     "prompt_number": 28
    },
    {
     "cell_type": "code",
     "collapsed": false,
     "input": [
      "football[3:5]"
     ],
     "language": "python",
     "metadata": {},
     "outputs": [
      {
       "html": [
        "<div style=\"max-width:1500px;overflow:auto;\">\n",
        "<table border=\"1\" class=\"dataframe\">\n",
        "  <thead>\n",
        "    <tr style=\"text-align: right;\">\n",
        "      <th></th>\n",
        "      <th>losses</th>\n",
        "      <th>team</th>\n",
        "      <th>wins</th>\n",
        "      <th>year</th>\n",
        "    </tr>\n",
        "  </thead>\n",
        "  <tbody>\n",
        "    <tr>\n",
        "      <th>3</th>\n",
        "      <td>1</td>\n",
        "      <td>Packers</td>\n",
        "      <td>15</td>\n",
        "      <td>2011</td>\n",
        "    </tr>\n",
        "    <tr>\n",
        "      <th>4</th>\n",
        "      <td>5</td>\n",
        "      <td>Packers</td>\n",
        "      <td>11</td>\n",
        "      <td>2012</td>\n",
        "    </tr>\n",
        "  </tbody>\n",
        "</table>\n",
        "</div>"
       ],
       "metadata": {},
       "output_type": "pyout",
       "prompt_number": 29,
       "text": [
        "   losses     team  wins  year\n",
        "3       1  Packers    15  2011\n",
        "4       5  Packers    11  2012"
       ]
      }
     ],
     "prompt_number": 29
    },
    {
     "cell_type": "code",
     "collapsed": false,
     "input": [
      "football[football.wins > 10]\n"
     ],
     "language": "python",
     "metadata": {},
     "outputs": [
      {
       "html": [
        "<div style=\"max-width:1500px;overflow:auto;\">\n",
        "<table border=\"1\" class=\"dataframe\">\n",
        "  <thead>\n",
        "    <tr style=\"text-align: right;\">\n",
        "      <th></th>\n",
        "      <th>losses</th>\n",
        "      <th>team</th>\n",
        "      <th>wins</th>\n",
        "      <th>year</th>\n",
        "    </tr>\n",
        "  </thead>\n",
        "  <tbody>\n",
        "    <tr>\n",
        "      <th>0</th>\n",
        "      <td>5</td>\n",
        "      <td>Bears</td>\n",
        "      <td>11</td>\n",
        "      <td>2010</td>\n",
        "    </tr>\n",
        "    <tr>\n",
        "      <th>3</th>\n",
        "      <td>1</td>\n",
        "      <td>Packers</td>\n",
        "      <td>15</td>\n",
        "      <td>2011</td>\n",
        "    </tr>\n",
        "    <tr>\n",
        "      <th>4</th>\n",
        "      <td>5</td>\n",
        "      <td>Packers</td>\n",
        "      <td>11</td>\n",
        "      <td>2012</td>\n",
        "    </tr>\n",
        "  </tbody>\n",
        "</table>\n",
        "</div>"
       ],
       "metadata": {},
       "output_type": "pyout",
       "prompt_number": 31,
       "text": [
        "   losses     team  wins  year\n",
        "0       5    Bears    11  2010\n",
        "3       1  Packers    15  2011\n",
        "4       5  Packers    11  2012"
       ]
      }
     ],
     "prompt_number": 31
    },
    {
     "cell_type": "code",
     "collapsed": false,
     "input": [
      "football[(football.wins > 10)&(football.team=='Packers')]"
     ],
     "language": "python",
     "metadata": {},
     "outputs": [
      {
       "html": [
        "<div style=\"max-width:1500px;overflow:auto;\">\n",
        "<table border=\"1\" class=\"dataframe\">\n",
        "  <thead>\n",
        "    <tr style=\"text-align: right;\">\n",
        "      <th></th>\n",
        "      <th>losses</th>\n",
        "      <th>team</th>\n",
        "      <th>wins</th>\n",
        "      <th>year</th>\n",
        "    </tr>\n",
        "  </thead>\n",
        "  <tbody>\n",
        "    <tr>\n",
        "      <th>3</th>\n",
        "      <td>1</td>\n",
        "      <td>Packers</td>\n",
        "      <td>15</td>\n",
        "      <td>2011</td>\n",
        "    </tr>\n",
        "    <tr>\n",
        "      <th>4</th>\n",
        "      <td>5</td>\n",
        "      <td>Packers</td>\n",
        "      <td>11</td>\n",
        "      <td>2012</td>\n",
        "    </tr>\n",
        "  </tbody>\n",
        "</table>\n",
        "</div>"
       ],
       "metadata": {},
       "output_type": "pyout",
       "prompt_number": 32,
       "text": [
        "   losses     team  wins  year\n",
        "3       1  Packers    15  2011\n",
        "4       5  Packers    11  2012"
       ]
      }
     ],
     "prompt_number": 32
    },
    {
     "cell_type": "code",
     "collapsed": false,
     "input": [
      "football['wins'][(football.wins > 10)&(football.team=='Packers')]"
     ],
     "language": "python",
     "metadata": {},
     "outputs": [
      {
       "metadata": {},
       "output_type": "pyout",
       "prompt_number": 33,
       "text": [
        "3    15\n",
        "4    11\n",
        "Name: wins, dtype: int64"
       ]
      }
     ],
     "prompt_number": 33
    },
    {
     "cell_type": "code",
     "collapsed": false,
     "input": [
      "import numpy as np"
     ],
     "language": "python",
     "metadata": {},
     "outputs": [],
     "prompt_number": 36
    },
    {
     "cell_type": "code",
     "collapsed": false,
     "input": [
      "np.mean(football['wins'][(football.wins > 10)&(football.team=='Packers')])"
     ],
     "language": "python",
     "metadata": {},
     "outputs": [
      {
       "metadata": {},
       "output_type": "pyout",
       "prompt_number": 37,
       "text": [
        "13.0"
       ]
      }
     ],
     "prompt_number": 37
    },
    {
     "cell_type": "code",
     "collapsed": false,
     "input": [
      "from pandas import DataFrame, Series\n",
      "import numpy\n",
      "\n",
      "\n",
      "def avg_medal_count():\n",
      "    '''\n",
      "    Compute the average number of bronze medals earned by countries who \n",
      "    earned at least one gold medal.  \n",
      "    \n",
      "    Save this to a variable named avg_bronze_at_least_one_gold. You do not\n",
      "    need to call the function in your code when running it in the browser -\n",
      "    the grader will do that automatically when you submit or test it.\n",
      "    \n",
      "    HINT-1:\n",
      "    You can retrieve all of the values of a Pandas column from a \n",
      "    data frame, \"df\", as follows:\n",
      "    df['column_name']\n",
      "    \n",
      "    HINT-2:\n",
      "    The numpy.mean function can accept as an argument a single\n",
      "    Pandas column. \n",
      "    \n",
      "    For example, numpy.mean(df[\"col_name\"]) would return the \n",
      "    mean of the values located in \"col_name\" of a dataframe df.\n",
      "    '''\n",
      "\n",
      "\n",
      "    countries = ['Russian Fed.', 'Norway', 'Canada', 'United States',\n",
      "                 'Netherlands', 'Germany', 'Switzerland', 'Belarus',\n",
      "                 'Austria', 'France', 'Poland', 'China', 'Korea', \n",
      "                 'Sweden', 'Czech Republic', 'Slovenia', 'Japan',\n",
      "                 'Finland', 'Great Britain', 'Ukraine', 'Slovakia',\n",
      "                 'Italy', 'Latvia', 'Australia', 'Croatia', 'Kazakhstan']\n",
      "\n",
      "    gold = [13, 11, 10, 9, 8, 8, 6, 5, 4, 4, 4, 3, 3, 2, 2, 2, 1, 1, 1, 1, 1, 0, 0, 0, 0, 0]\n",
      "    silver = [11, 5, 10, 7, 7, 6, 3, 0, 8, 4, 1, 4, 3, 7, 4, 2, 4, 3, 1, 0, 0, 2, 2, 2, 1, 0]\n",
      "    bronze = [9, 10, 5, 12, 9, 5, 2, 1, 5, 7, 1, 2, 2, 6, 2, 4, 3, 1, 2, 1, 0, 6, 2, 1, 0, 1]\n",
      "    \n",
      "    olympic_medal_counts = {'country_name':Series(countries),\n",
      "                            'gold': Series(gold),\n",
      "                            'silver': Series(silver),\n",
      "                            'bronze': Series(bronze)}\n",
      "    df = DataFrame(olympic_medal_counts)\n",
      "    \n",
      "    #relevant code\n",
      "    avg_bronze_at_least_one_gold = numpy.mean(df['bronze'][df.gold >= 1]) \n",
      "\n",
      "    return avg_bronze_at_least_one_gold"
     ],
     "language": "python",
     "metadata": {},
     "outputs": [],
     "prompt_number": 5
    },
    {
     "cell_type": "code",
     "collapsed": false,
     "input": [
      "avg_medal_count()"
     ],
     "language": "python",
     "metadata": {},
     "outputs": [
      {
       "metadata": {},
       "output_type": "pyout",
       "prompt_number": 43,
       "text": [
        "4.2380952380952381"
       ]
      }
     ],
     "prompt_number": 43
    },
    {
     "cell_type": "code",
     "collapsed": false,
     "input": [
      "countries = ['Russian Fed.', 'Norway', 'Canada', 'United States',\n",
      "                 'Netherlands', 'Germany', 'Switzerland', 'Belarus',\n",
      "                 'Austria', 'France', 'Poland', 'China', 'Korea', \n",
      "                 'Sweden', 'Czech Republic', 'Slovenia', 'Japan',\n",
      "                 'Finland', 'Great Britain', 'Ukraine', 'Slovakia',\n",
      "                 'Italy', 'Latvia', 'Australia', 'Croatia', 'Kazakhstan']\n",
      "gold = [13, 11, 10, 9, 8, 8, 6, 5, 4, 4, 4, 3, 3, 2, 2, 2, 1, 1, 1, 1, 1, 0, 0, 0, 0, 0]\n",
      "silver = [11, 5, 10, 7, 7, 6, 3, 0, 8, 4, 1, 4, 3, 7, 4, 2, 4, 3, 1, 0, 0, 2, 2, 2, 1, 0]\n",
      "bronze = [9, 10, 5, 12, 9, 5, 2, 1, 5, 7, 1, 2, 2, 6, 2, 4, 3, 1, 2, 1, 0, 6, 2, 1, 0, 1]\n",
      "    \n",
      "olympic_medal_counts = {'country_name':Series(countries),\n",
      "                            'gold': Series(gold),\n",
      "                            'silver': Series(silver),\n",
      "                            'bronze': Series(bronze)}\n",
      "df = DataFrame(olympic_medal_counts)"
     ],
     "language": "python",
     "metadata": {},
     "outputs": [],
     "prompt_number": 6
    },
    {
     "cell_type": "code",
     "collapsed": false,
     "input": [
      "df.applymap(lambda x: x>=1) #applies mapping to whole df"
     ],
     "language": "python",
     "metadata": {},
     "outputs": [
      {
       "html": [
        "<div style=\"max-width:1500px;overflow:auto;\">\n",
        "<table border=\"1\" class=\"dataframe\">\n",
        "  <thead>\n",
        "    <tr style=\"text-align: right;\">\n",
        "      <th></th>\n",
        "      <th>bronze</th>\n",
        "      <th>country_name</th>\n",
        "      <th>gold</th>\n",
        "      <th>silver</th>\n",
        "    </tr>\n",
        "  </thead>\n",
        "  <tbody>\n",
        "    <tr>\n",
        "      <th>0</th>\n",
        "      <td>True</td>\n",
        "      <td>True</td>\n",
        "      <td>True</td>\n",
        "      <td>True</td>\n",
        "    </tr>\n",
        "    <tr>\n",
        "      <th>1</th>\n",
        "      <td>True</td>\n",
        "      <td>True</td>\n",
        "      <td>True</td>\n",
        "      <td>True</td>\n",
        "    </tr>\n",
        "    <tr>\n",
        "      <th>2</th>\n",
        "      <td>True</td>\n",
        "      <td>True</td>\n",
        "      <td>True</td>\n",
        "      <td>True</td>\n",
        "    </tr>\n",
        "    <tr>\n",
        "      <th>3</th>\n",
        "      <td>True</td>\n",
        "      <td>True</td>\n",
        "      <td>True</td>\n",
        "      <td>True</td>\n",
        "    </tr>\n",
        "    <tr>\n",
        "      <th>4</th>\n",
        "      <td>True</td>\n",
        "      <td>True</td>\n",
        "      <td>True</td>\n",
        "      <td>True</td>\n",
        "    </tr>\n",
        "    <tr>\n",
        "      <th>5</th>\n",
        "      <td>True</td>\n",
        "      <td>True</td>\n",
        "      <td>True</td>\n",
        "      <td>True</td>\n",
        "    </tr>\n",
        "    <tr>\n",
        "      <th>6</th>\n",
        "      <td>True</td>\n",
        "      <td>True</td>\n",
        "      <td>True</td>\n",
        "      <td>True</td>\n",
        "    </tr>\n",
        "    <tr>\n",
        "      <th>7</th>\n",
        "      <td>True</td>\n",
        "      <td>True</td>\n",
        "      <td>True</td>\n",
        "      <td>False</td>\n",
        "    </tr>\n",
        "    <tr>\n",
        "      <th>8</th>\n",
        "      <td>True</td>\n",
        "      <td>True</td>\n",
        "      <td>True</td>\n",
        "      <td>True</td>\n",
        "    </tr>\n",
        "    <tr>\n",
        "      <th>9</th>\n",
        "      <td>True</td>\n",
        "      <td>True</td>\n",
        "      <td>True</td>\n",
        "      <td>True</td>\n",
        "    </tr>\n",
        "    <tr>\n",
        "      <th>10</th>\n",
        "      <td>True</td>\n",
        "      <td>True</td>\n",
        "      <td>True</td>\n",
        "      <td>True</td>\n",
        "    </tr>\n",
        "    <tr>\n",
        "      <th>11</th>\n",
        "      <td>True</td>\n",
        "      <td>True</td>\n",
        "      <td>True</td>\n",
        "      <td>True</td>\n",
        "    </tr>\n",
        "    <tr>\n",
        "      <th>12</th>\n",
        "      <td>True</td>\n",
        "      <td>True</td>\n",
        "      <td>True</td>\n",
        "      <td>True</td>\n",
        "    </tr>\n",
        "    <tr>\n",
        "      <th>13</th>\n",
        "      <td>True</td>\n",
        "      <td>True</td>\n",
        "      <td>True</td>\n",
        "      <td>True</td>\n",
        "    </tr>\n",
        "    <tr>\n",
        "      <th>14</th>\n",
        "      <td>True</td>\n",
        "      <td>True</td>\n",
        "      <td>True</td>\n",
        "      <td>True</td>\n",
        "    </tr>\n",
        "    <tr>\n",
        "      <th>15</th>\n",
        "      <td>True</td>\n",
        "      <td>True</td>\n",
        "      <td>True</td>\n",
        "      <td>True</td>\n",
        "    </tr>\n",
        "    <tr>\n",
        "      <th>16</th>\n",
        "      <td>True</td>\n",
        "      <td>True</td>\n",
        "      <td>True</td>\n",
        "      <td>True</td>\n",
        "    </tr>\n",
        "    <tr>\n",
        "      <th>17</th>\n",
        "      <td>True</td>\n",
        "      <td>True</td>\n",
        "      <td>True</td>\n",
        "      <td>True</td>\n",
        "    </tr>\n",
        "    <tr>\n",
        "      <th>18</th>\n",
        "      <td>True</td>\n",
        "      <td>True</td>\n",
        "      <td>True</td>\n",
        "      <td>True</td>\n",
        "    </tr>\n",
        "    <tr>\n",
        "      <th>19</th>\n",
        "      <td>True</td>\n",
        "      <td>True</td>\n",
        "      <td>True</td>\n",
        "      <td>False</td>\n",
        "    </tr>\n",
        "    <tr>\n",
        "      <th>20</th>\n",
        "      <td>False</td>\n",
        "      <td>True</td>\n",
        "      <td>True</td>\n",
        "      <td>False</td>\n",
        "    </tr>\n",
        "    <tr>\n",
        "      <th>21</th>\n",
        "      <td>True</td>\n",
        "      <td>True</td>\n",
        "      <td>False</td>\n",
        "      <td>True</td>\n",
        "    </tr>\n",
        "    <tr>\n",
        "      <th>22</th>\n",
        "      <td>True</td>\n",
        "      <td>True</td>\n",
        "      <td>False</td>\n",
        "      <td>True</td>\n",
        "    </tr>\n",
        "    <tr>\n",
        "      <th>23</th>\n",
        "      <td>True</td>\n",
        "      <td>True</td>\n",
        "      <td>False</td>\n",
        "      <td>True</td>\n",
        "    </tr>\n",
        "    <tr>\n",
        "      <th>24</th>\n",
        "      <td>False</td>\n",
        "      <td>True</td>\n",
        "      <td>False</td>\n",
        "      <td>True</td>\n",
        "    </tr>\n",
        "    <tr>\n",
        "      <th>25</th>\n",
        "      <td>True</td>\n",
        "      <td>True</td>\n",
        "      <td>False</td>\n",
        "      <td>False</td>\n",
        "    </tr>\n",
        "  </tbody>\n",
        "</table>\n",
        "</div>"
       ],
       "metadata": {},
       "output_type": "pyout",
       "prompt_number": 7,
       "text": [
        "   bronze country_name   gold silver\n",
        "0    True         True   True   True\n",
        "1    True         True   True   True\n",
        "2    True         True   True   True\n",
        "3    True         True   True   True\n",
        "4    True         True   True   True\n",
        "5    True         True   True   True\n",
        "6    True         True   True   True\n",
        "7    True         True   True  False\n",
        "8    True         True   True   True\n",
        "9    True         True   True   True\n",
        "10   True         True   True   True\n",
        "11   True         True   True   True\n",
        "12   True         True   True   True\n",
        "13   True         True   True   True\n",
        "14   True         True   True   True\n",
        "15   True         True   True   True\n",
        "16   True         True   True   True\n",
        "17   True         True   True   True\n",
        "18   True         True   True   True\n",
        "19   True         True   True  False\n",
        "20  False         True   True  False\n",
        "21   True         True  False   True\n",
        "22   True         True  False   True\n",
        "23   True         True  False   True\n",
        "24  False         True  False   True\n",
        "25   True         True  False  False"
       ]
      }
     ],
     "prompt_number": 7
    },
    {
     "cell_type": "code",
     "collapsed": false,
     "input": [
      "df[['gold','silver','bronze']].apply(numpy.mean)"
     ],
     "language": "python",
     "metadata": {},
     "outputs": [
      {
       "metadata": {},
       "output_type": "pyout",
       "prompt_number": 76,
       "text": [
        "gold      3.807692\n",
        "silver    3.730769\n",
        "bronze    3.807692\n",
        "dtype: float64"
       ]
      }
     ],
     "prompt_number": 76
    },
    {
     "cell_type": "markdown",
     "metadata": {},
     "source": [
      "Can approach a dot problem in two ways. This particular example looks at determining the point totals of all the countries in the olympics.\n",
      "\n",
      "Approach 1: Create a df using medal counts exculsively (see [9])\n",
      "            Find dot product using point scoring system"
     ]
    },
    {
     "cell_type": "code",
     "collapsed": false,
     "input": [
      "points = numpy.dot(df[['gold','silver','bronze']],[4,2,1])"
     ],
     "language": "python",
     "metadata": {},
     "outputs": [],
     "prompt_number": 9
    },
    {
     "cell_type": "code",
     "collapsed": false,
     "input": [
      "df_olympic_points = DataFrame({'country_name':countries,'points':points})"
     ],
     "language": "python",
     "metadata": {},
     "outputs": [],
     "prompt_number": 10
    },
    {
     "cell_type": "markdown",
     "metadata": {},
     "source": [
      "Approach 2: Create an array using the transpose of all of the medal counts\n",
      "            Find dot product using point scoring system"
     ]
    },
    {
     "cell_type": "code",
     "collapsed": false,
     "input": [
      "numpy.dot(numpy.transpose([gold,silver,bronze]),[4,2,1])"
     ],
     "language": "python",
     "metadata": {},
     "outputs": [
      {
       "metadata": {},
       "output_type": "pyout",
       "prompt_number": 17,
       "text": [
        "array([83, 64, 65, 62, 55, 49, 32, 21, 37, 31, 19, 22, 20, 28, 18, 16, 15,\n",
        "       11,  8,  5,  4, 10,  6,  5,  2,  1])"
       ]
      }
     ],
     "prompt_number": 17
    },
    {
     "cell_type": "markdown",
     "metadata": {},
     "source": [
      "Approach3: Use pandas exclusively with the following"
     ]
    },
    {
     "cell_type": "code",
     "collapsed": false,
     "input": [
      "df['points'] = df[['gold','silver','bronze']].dot([4, 2, 1]) "
     ],
     "language": "python",
     "metadata": {},
     "outputs": [],
     "prompt_number": 19
    },
    {
     "cell_type": "code",
     "collapsed": false,
     "input": [
      "olympic_points_df = df[['country_name','points']]"
     ],
     "language": "python",
     "metadata": {},
     "outputs": [],
     "prompt_number": 20
    },
    {
     "cell_type": "code",
     "collapsed": false,
     "input": [
      "olympic"
     ],
     "language": "python",
     "metadata": {},
     "outputs": []
    }
   ],
   "metadata": {}
  }
 ]
}